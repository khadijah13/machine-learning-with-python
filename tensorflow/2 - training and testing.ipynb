{
 "cells": [
  {
   "cell_type": "code",
   "execution_count": 1,
   "id": "65c68962",
   "metadata": {},
   "outputs": [],
   "source": [
    "import tensorflow as tf\n",
    "\n",
    "# Helper libraries\n",
    "import numpy as np\n",
    "import matplotlib.pyplot as plt\n",
    "import pandas as pd"
   ]
  },
  {
   "cell_type": "code",
   "execution_count": 3,
   "id": "e5603761",
   "metadata": {},
   "outputs": [],
   "source": [
    "# read the training dataset and save to a dataframe\n",
    "x_train = pd.read_csv(\"https://storage.googleapis.com/tf-datasets/titanic/train.csv\");\n",
    "\n",
    "#below reads the validation dataset\n",
    "x_eval = pd.read_csv(\"https://storage.googleapis.com/tf-datasets/titanic/eval.csv\");\n",
    "\n",
    "# you shoud have train and validation/test to see(test) if your algorithm is doing well. \n",
    "# you will train with x_train and validate with x_eval because it has not seen x_eval and there will beless bias.\n",
    "\n",
    "\n",
    "# we want to know if a passenger will survive... \n",
    "# ...given specific features or characteristics (X) about a passenger\n",
    "# for that we will use SURVIVED as our output(y) since this is what we are trying to predict.\n",
    "# so lets put survived in y and remove it from our dataframe using pop\n",
    "\n",
    "y_train = x_train.pop(\"survived\")\n",
    "y_eval = x_eval.pop(\"survived\")"
   ]
  },
  {
   "cell_type": "code",
   "execution_count": 4,
   "id": "d0ced62f",
   "metadata": {},
   "outputs": [],
   "source": [
    "# categorical values have a limited/fixed number of possible values\n",
    "# numeric columns take on numeric values with different possible values \n",
    "CATEGORICAL_COLUMNS = ['sex', 'n_siblings_spouses', 'parch', 'class', 'deck',\n",
    "                       'embark_town', 'alone']\n",
    "NUMERIC_COLUMNS = ['age', 'fare']\n",
    "\n",
    "feature_columns = []\n",
    "for feature_name in CATEGORICAL_COLUMNS:\n",
    "  vocabulary = x_train[feature_name].unique() #find uniquevalues in that column e.g male, female\n",
    "  feature_columns.append(tf.feature_column.categorical_column_with_vocabulary_list(feature_name, vocabulary))\n",
    "\n",
    "for feature_name in NUMERIC_COLUMNS:\n",
    "  feature_columns.append(tf.feature_column.numeric_column(feature_name, dtype=tf.float32))"
   ]
  },
  {
   "cell_type": "code",
   "execution_count": 5,
   "id": "701769d9",
   "metadata": {},
   "outputs": [],
   "source": [
    "def make_input_fn(data_df, label_df, num_epochs=10, shuffle=True, batch_size=32):\n",
    "  def input_function():\n",
    "    ds = tf.data.Dataset.from_tensor_slices((dict(data_df), label_df))\n",
    "    if shuffle:\n",
    "      ds = ds.shuffle(1000)\n",
    "    ds = ds.batch(batch_size).repeat(num_epochs)\n",
    "    return ds\n",
    "  return input_function\n",
    "\n",
    "train_input_fn = make_input_fn(x_train, y_train)\n",
    "eval_input_fn = make_input_fn(x_eval, y_eval, num_epochs=1, shuffle=False)"
   ]
  },
  {
   "cell_type": "code",
   "execution_count": null,
   "id": "66e377f6",
   "metadata": {},
   "outputs": [],
   "source": [
    "#using a Linear classifier\n",
    "linear_est = tf.estimator.LinearClassifier(feature_columns=feature_columns)\n",
    "\n",
    "#training\n",
    "linear_est.train(train_input_fn)\n",
    "\n",
    "#evaluate and store in result\n",
    "result = linear_est.evaluate(eval_input_fn)\n",
    "\n",
    "clear_output()\n",
    "#print result\n",
    "print(result)\n",
    "\n",
    "#print first result\n",
    "print(result[0])\n",
    "\n",
    "#print first result probability\n",
    "print(result[0][\"probabilities\"])\n",
    "\n",
    "#print first result cances of survival\n",
    "print(result[0][\"probabilities\"][1])\n",
    "\n",
    "#print first persons features\n",
    "print(x_eval.loc[0])\n",
    "\n",
    "#print first persons actual probability of surviving\n",
    "print(y_eval.loc[0])\n",
    "\n"
   ]
  }
 ],
 "metadata": {
  "kernelspec": {
   "display_name": "Python 3",
   "language": "python",
   "name": "python3"
  },
  "language_info": {
   "codemirror_mode": {
    "name": "ipython",
    "version": 3
   },
   "file_extension": ".py",
   "mimetype": "text/x-python",
   "name": "python",
   "nbconvert_exporter": "python",
   "pygments_lexer": "ipython3",
   "version": "3.8.8"
  }
 },
 "nbformat": 4,
 "nbformat_minor": 5
}
